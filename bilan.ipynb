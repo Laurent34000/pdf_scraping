{
 "cells": [
  {
   "cell_type": "markdown",
   "id": "256e9222-b657-4a83-aae9-1580e514d363",
   "metadata": {},
   "source": [
    "<h1 style = \"text-align:center\">PARSING A PDF</h1> "
   ]
  },
  {
   "cell_type": "markdown",
   "id": "bf72fb4c-e448-47db-9800-51409f70db43",
   "metadata": {},
   "source": [
    "<h2>Welcome to my new project, where I’ll be working on extracting and using data from a PDF.</h2>\n",
    "\n",
    "#### For this project, I’ll be using the pdfplumber library along with the financial statements of Montpellier Hérault Rugby (\"https://www.pappers.fr/entreprise/mhr-montpellier-herault-rugby-433839024\")\n",
    "\n",
    "#### The goal is to extract the expenses and revenues for 2023 and 2024, and then compute the net result for each financial year.\n"
   ]
  },
  {
   "cell_type": "code",
   "execution_count": 1,
   "id": "86d2061f-1a97-441d-8c80-cd5433c37697",
   "metadata": {},
   "outputs": [
    {
     "name": "stdout",
     "output_type": "stream",
     "text": [
      "Requirement already satisfied: pandas in c:\\users\\laurent\\desktop\\projets\\python\\envbilan\\lib\\site-packages (2.3.2)\n",
      "Requirement already satisfied: numpy>=1.26.0 in c:\\users\\laurent\\desktop\\projets\\python\\envbilan\\lib\\site-packages (from pandas) (2.3.2)\n",
      "Requirement already satisfied: python-dateutil>=2.8.2 in c:\\users\\laurent\\desktop\\projets\\python\\envbilan\\lib\\site-packages (from pandas) (2.9.0.post0)\n",
      "Requirement already satisfied: pytz>=2020.1 in c:\\users\\laurent\\desktop\\projets\\python\\envbilan\\lib\\site-packages (from pandas) (2025.2)\n",
      "Requirement already satisfied: tzdata>=2022.7 in c:\\users\\laurent\\desktop\\projets\\python\\envbilan\\lib\\site-packages (from pandas) (2025.2)\n",
      "Requirement already satisfied: six>=1.5 in c:\\users\\laurent\\desktop\\projets\\python\\envbilan\\lib\\site-packages (from python-dateutil>=2.8.2->pandas) (1.17.0)\n",
      "Note: you may need to restart the kernel to use updated packages.\n"
     ]
    },
    {
     "name": "stderr",
     "output_type": "stream",
     "text": [
      "\n",
      "[notice] A new release of pip is available: 24.2 -> 25.2\n",
      "[notice] To update, run: python.exe -m pip install --upgrade pip\n"
     ]
    },
    {
     "name": "stdout",
     "output_type": "stream",
     "text": [
      "Requirement already satisfied: pdfplumber in c:\\users\\laurent\\desktop\\projets\\python\\envbilan\\lib\\site-packages (0.11.7)\n",
      "Requirement already satisfied: pdfminer.six==20250506 in c:\\users\\laurent\\desktop\\projets\\python\\envbilan\\lib\\site-packages (from pdfplumber) (20250506)\n",
      "Requirement already satisfied: Pillow>=9.1 in c:\\users\\laurent\\desktop\\projets\\python\\envbilan\\lib\\site-packages (from pdfplumber) (11.3.0)\n",
      "Requirement already satisfied: pypdfium2>=4.18.0 in c:\\users\\laurent\\desktop\\projets\\python\\envbilan\\lib\\site-packages (from pdfplumber) (4.30.0)\n",
      "Requirement already satisfied: charset-normalizer>=2.0.0 in c:\\users\\laurent\\desktop\\projets\\python\\envbilan\\lib\\site-packages (from pdfminer.six==20250506->pdfplumber) (3.4.3)\n",
      "Requirement already satisfied: cryptography>=36.0.0 in c:\\users\\laurent\\desktop\\projets\\python\\envbilan\\lib\\site-packages (from pdfminer.six==20250506->pdfplumber) (45.0.7)\n",
      "Requirement already satisfied: cffi>=1.14 in c:\\users\\laurent\\desktop\\projets\\python\\envbilan\\lib\\site-packages (from cryptography>=36.0.0->pdfminer.six==20250506->pdfplumber) (1.17.1)\n",
      "Requirement already satisfied: pycparser in c:\\users\\laurent\\desktop\\projets\\python\\envbilan\\lib\\site-packages (from cffi>=1.14->cryptography>=36.0.0->pdfminer.six==20250506->pdfplumber) (2.22)\n",
      "Note: you may need to restart the kernel to use updated packages.\n"
     ]
    },
    {
     "name": "stderr",
     "output_type": "stream",
     "text": [
      "\n",
      "[notice] A new release of pip is available: 24.2 -> 25.2\n",
      "[notice] To update, run: python.exe -m pip install --upgrade pip\n"
     ]
    }
   ],
   "source": [
    "%pip install pandas\n",
    "%pip install pdfplumber"
   ]
  },
  {
   "cell_type": "code",
   "execution_count": 2,
   "id": "9d1b2d91-bb45-4008-9200-3de23980322f",
   "metadata": {},
   "outputs": [],
   "source": [
    "import re\n",
    "import pdfplumber\n",
    "import pandas as pd\n",
    "from collections import namedtuple\n",
    "import matplotlib.pyplot as plt\n",
    "import numpy as np"
   ]
  },
  {
   "cell_type": "code",
   "execution_count": 3,
   "id": "74bb427e-3795-4be0-8dff-8f45dbf3bde6",
   "metadata": {},
   "outputs": [
    {
     "name": "stdout",
     "output_type": "stream",
     "text": [
      "Page :\n",
      "Compte de Résultat\n",
      "RESULTAT D'EXPLOITATION\n",
      "Bénéfice attribué ou perte transférée\n",
      "Perte supportée ou bénéfice transféré\n",
      "De participations (3)\n",
      "D'autres valeurs mobilières et créances d'actif immobilisé (3)\n",
      "Autres intérêts et produits assimilés (3)\n",
      "Différences positives de change\n",
      "Produits nets sur cessions de valeurs mobilières de placement\n",
      "Intérêts et charges assimilées (4)\n",
      "Différences négatives de change\n",
      "Charges nettes sur cessions de valeurs mobilières de placement\n",
      "RESULTAT FINANCIER\n",
      "RESULTAT COURANT AVANT IMPOTS\n",
      "RESULTAT EXCEPTIONNEL\n",
      "STIUDORP\n",
      "STIUDORP\n",
      "SLENNOITPECXE\n",
      "Total des produits financiers\n",
      ".arépO\n",
      "SEGRAHC\n",
      ".mmoc\n",
      "SREICNANIF\n",
      "SEREICNANIF\n",
      "Total des charges financières\n",
      "Sur opérations de gestion\n",
      "Sur opérations en capital\n",
      "Total des produits exceptionnels\n",
      "Total des charges exceptionnelles\n",
      "SEGRAHC\n",
      "SELLENNOITPECXE\n",
      "AXIOME AEC S.A. MONTPELLIER HERAULT RUGBY 4\n",
      "2/2\n",
      "Etat exprimé en euros 30/06/2024 30/06/2023\n",
      "(10 138 371) (5 942 050)\n",
      "135 115\n",
      "Reprises sur provisions et dépréciations et transferts de charges\n",
      "135 115\n",
      "Dotations aux amortissements, aux dépréciations et aux provisions\n",
      "1 663\n",
      "1 663\n",
      "(1 528) 115\n",
      "(10 139 899) (5 941 935)\n",
      "83 549 56 244\n",
      "10 215 352 6 658 476\n",
      "Reprises sur provisions et dépréciations et transferts de charges\n",
      "10 298 901 6 714 719\n",
      "Sur opérations de gestion\n",
      "Sur opérations en capital 764 999 626 439\n",
      "Dotations aux amortissements, aux dépréciations et aux provisions\n",
      "764 999 626 439\n",
      "9 533 902 6 088 280\n",
      "PARTICIPATION DES SALARIES\n",
      "IMPOTS SUR LES BENEFICES (61 875) (67 500)\n",
      "TOTAL DES PRODUITS 34 927 408 31 954 658\n",
      "TOTAL DES CHARGES 35 471 530 31 740 813\n",
      "RESULTAT DE L'EXERCICE (544 121) 213 845\n",
      "(1) dont produits afférents à des exercices antérieurs\n",
      "(2) dont charges afférentes à des exercices antérieurs\n",
      "(3) dont produits concernant les entreprises liées\n",
      "(4) dont intérêts concernant les entreprises liées\n"
     ]
    }
   ],
   "source": [
    "pdf = pdfplumber.open(\"comptes_sociaux_2024.pdf\")\n",
    "page = pdf.pages[5]\n",
    "text = page.extract_text()\n",
    "\n",
    "for line in text.split(\"\\n\"):\n",
    "    print(line)"
   ]
  },
  {
   "cell_type": "markdown",
   "id": "a7d1c03e-cdde-4be1-844a-228a698221b4",
   "metadata": {},
   "source": [
    "#### I then use a regular expression to filter and extract only the lines that include \"Produits\" (Revenues) and \"Charges\" (Expenses) data."
   ]
  },
  {
   "cell_type": "code",
   "execution_count": 4,
   "id": "563e9e81-b5fe-45ea-b861-b83419fbe0c9",
   "metadata": {},
   "outputs": [
    {
     "data": {
      "text/html": [
       "<div>\n",
       "<style scoped>\n",
       "    .dataframe tbody tr th:only-of-type {\n",
       "        vertical-align: middle;\n",
       "    }\n",
       "\n",
       "    .dataframe tbody tr th {\n",
       "        vertical-align: top;\n",
       "    }\n",
       "\n",
       "    .dataframe thead th {\n",
       "        text-align: right;\n",
       "    }\n",
       "</style>\n",
       "<table border=\"1\" class=\"dataframe\">\n",
       "  <thead>\n",
       "    <tr style=\"text-align: right;\">\n",
       "      <th></th>\n",
       "      <th>Concept</th>\n",
       "      <th>Year24</th>\n",
       "      <th>Year23</th>\n",
       "    </tr>\n",
       "  </thead>\n",
       "  <tbody>\n",
       "    <tr>\n",
       "      <th>0</th>\n",
       "      <td>TOTAL DES PRODUITS</td>\n",
       "      <td>34 927 408</td>\n",
       "      <td>31 954 658</td>\n",
       "    </tr>\n",
       "    <tr>\n",
       "      <th>1</th>\n",
       "      <td>TOTAL DES CHARGES</td>\n",
       "      <td>35 471 530</td>\n",
       "      <td>31 740 813</td>\n",
       "    </tr>\n",
       "  </tbody>\n",
       "</table>\n",
       "</div>"
      ],
      "text/plain": [
       "              Concept      Year24      Year23\n",
       "0  TOTAL DES PRODUITS  34 927 408  31 954 658\n",
       "1   TOTAL DES CHARGES  35 471 530  31 740 813"
      ]
     },
     "execution_count": 4,
     "metadata": {},
     "output_type": "execute_result"
    }
   ],
   "source": [
    "desc_re = re.compile(r\"([A-Z].+) (\\d{0,9} \\d{0,9} \\d{0,9}) (\\d{0,9} \\d{0,9} \\d{0,9})\")\n",
    "\n",
    "resultat = namedtuple(\"Resultat\", \"Concept Year24 Year23\")\n",
    "items = []\n",
    "for line in text.split(\"\\n\"): \n",
    "    if desc_re.search(line):\n",
    "        titre = desc_re.search(line).group(1)\n",
    "        year24 = desc_re.search(line).group(2)\n",
    "        year23 = desc_re.search(line).group(3)\n",
    "        items.append(resultat(titre, year24, year23))\n",
    "\n",
    "df = pd.DataFrame(items)\n",
    "df"
   ]
  },
  {
   "cell_type": "markdown",
   "id": "890caf39-d6a6-4e10-a21b-05b194ebbed0",
   "metadata": {},
   "source": [
    "#### The data of the result above is a string.. If I want to sustract them to have the net result, I must convert them into integer"
   ]
  },
  {
   "cell_type": "code",
   "execution_count": 5,
   "id": "2cc357d3-64b5-4733-8175-8effc0f2332b",
   "metadata": {},
   "outputs": [
    {
     "data": {
      "text/html": [
       "<div>\n",
       "<style scoped>\n",
       "    .dataframe tbody tr th:only-of-type {\n",
       "        vertical-align: middle;\n",
       "    }\n",
       "\n",
       "    .dataframe tbody tr th {\n",
       "        vertical-align: top;\n",
       "    }\n",
       "\n",
       "    .dataframe thead th {\n",
       "        text-align: right;\n",
       "    }\n",
       "</style>\n",
       "<table border=\"1\" class=\"dataframe\">\n",
       "  <thead>\n",
       "    <tr style=\"text-align: right;\">\n",
       "      <th></th>\n",
       "      <th>Concept</th>\n",
       "      <th>Year24</th>\n",
       "      <th>Year23</th>\n",
       "    </tr>\n",
       "  </thead>\n",
       "  <tbody>\n",
       "    <tr>\n",
       "      <th>0</th>\n",
       "      <td>TOTAL DES PRODUITS</td>\n",
       "      <td>34927408</td>\n",
       "      <td>31954658</td>\n",
       "    </tr>\n",
       "    <tr>\n",
       "      <th>1</th>\n",
       "      <td>TOTAL DES CHARGES</td>\n",
       "      <td>35471530</td>\n",
       "      <td>31740813</td>\n",
       "    </tr>\n",
       "  </tbody>\n",
       "</table>\n",
       "</div>"
      ],
      "text/plain": [
       "              Concept    Year24    Year23\n",
       "0  TOTAL DES PRODUITS  34927408  31954658\n",
       "1   TOTAL DES CHARGES  35471530  31740813"
      ]
     },
     "execution_count": 5,
     "metadata": {},
     "output_type": "execute_result"
    }
   ],
   "source": [
    "df['Year24'] = df['Year24'].astype(str).str.replace(' ', '').astype(int)\n",
    "df['Year23'] = df['Year23'].astype(str).str.replace(' ', '').astype(int)\n",
    "df.head()\n"
   ]
  },
  {
   "cell_type": "code",
   "execution_count": 6,
   "id": "3c8c7703-bb8c-4582-984a-5fc32fcbf810",
   "metadata": {},
   "outputs": [
    {
     "data": {
      "text/plain": [
       "Year24    -544122\n",
       "Year23     213845\n",
       "dtype: object"
      ]
     },
     "execution_count": 6,
     "metadata": {},
     "output_type": "execute_result"
    }
   ],
   "source": [
    "# Sélection des lignes \"produits\" et \"charges\"\n",
    "produits = df.loc[df['Concept'] == 'TOTAL DES PRODUITS'].iloc[0, 1:]  # Exclure la colonne Concept\n",
    "charges = df.loc[df['Concept'] == 'TOTAL DES CHARGES'].iloc[0, 1:]\n",
    "\n",
    "# Soustraction\n",
    "resultat = produits - charges\n",
    "resultat"
   ]
  },
  {
   "cell_type": "markdown",
   "id": "d02aeacc-a030-48f5-b6a9-6e87b531c2e0",
   "metadata": {},
   "source": [
    "#### The result above is returned as a string. To perform a subtraction and calculate the financial year, I need to convert the values into integers."
   ]
  },
  {
   "cell_type": "code",
   "execution_count": 10,
   "id": "0ed5ba82-e5c0-4e34-9094-b2ead5bbb453",
   "metadata": {},
   "outputs": [
    {
     "data": {
      "image/png": "[encoded data removed]",
      "text/plain": [
       "<Figure size 640x480 with 2 Axes>"
      ]
     },
     "metadata": {},
     "output_type": "display_data"
    }
   ],
   "source": [
    "fig, ax1 = plt.subplots()\n",
    "x = resultat.index\n",
    "\n",
    "# Barres pour les produits\n",
    "ax1.bar(x, produits.values.astype(float), color='skyblue', label='Produits')\n",
    "ax1.set_ylabel('Produits', color='skyblue')\n",
    "ax1.tick_params(axis='y', labelcolor='skyblue')\n",
    "\n",
    "# Courbe pour les charges\n",
    "ax2 = ax1.twinx()\n",
    "ax2.plot(x, charges.values.astype(float), color='orange', marker='o', label='Charges')\n",
    "ax2.set_ylabel('Charges', color='orange')\n",
    "ax2.tick_params(axis='y', labelcolor='orange')\n",
    "\n",
    "plt.title('Produits (barres) vs Charges (courbe)')\n",
    "plt.show()\n",
    "\n"
   ]
  },
  {
   "cell_type": "markdown",
   "id": "0792f7a0-3244-40ad-883e-c32decbc3f88",
   "metadata": {},
   "source": [
    "#### Finally the chart above shows that the increase in incomes isn't suficient to cover the increase in expenses "
   ]
  },
  {
   "cell_type": "code",
   "execution_count": null,
   "id": "eabce694-76be-4c14-856b-0e03c713693b",
   "metadata": {},
   "outputs": [],
   "source": []
  }
 ],
 "metadata": {
  "kernelspec": {
   "display_name": "Python 3 (ipykernel)",
   "language": "python",
   "name": "python3"
  },
  "language_info": {
   "codemirror_mode": {
    "name": "ipython",
    "version": 3
   },
   "file_extension": ".py",
   "mimetype": "text/x-python",
   "name": "python",
   "nbconvert_exporter": "python",
   "pygments_lexer": "ipython3",
   "version": "3.12.6"
  }
 },
 "nbformat": 4,
 "nbformat_minor": 5
}
